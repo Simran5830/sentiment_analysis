{
 "cells": [
  {
   "cell_type": "code",
   "execution_count": 1,
   "id": "6bb72d46-2658-481e-a4e1-61c9e0965c28",
   "metadata": {},
   "outputs": [],
   "source": [
    "# Sentiment analysis"
   ]
  },
  {
   "cell_type": "code",
   "execution_count": 2,
   "id": "d308c2bf-9174-4011-88d3-c50cff9d073a",
   "metadata": {},
   "outputs": [],
   "source": [
    "import pandas as pd\n",
    "import numpy as np\n",
    "import matplotlib.pyplot as plt\n",
    "import seaborn as sb\n",
    "import nltk\n",
    "import re\n",
    "import spacy\n",
    "import sklearn"
   ]
  },
  {
   "cell_type": "code",
   "execution_count": 3,
   "id": "00fc8db2-006b-4274-a91d-bca2dfa95661",
   "metadata": {},
   "outputs": [],
   "source": [
    "data=pd.read_csv(\"sentiment_analysis.csv\")"
   ]
  },
  {
   "cell_type": "code",
   "execution_count": 4,
   "id": "8b6fbf82-da8b-477b-9926-1141756d9397",
   "metadata": {},
   "outputs": [
    {
     "data": {
      "text/plain": [
       "(75181, 7)"
      ]
     },
     "execution_count": 4,
     "metadata": {},
     "output_type": "execute_result"
    }
   ],
   "source": [
    "data.shape"
   ]
  },
  {
   "cell_type": "code",
   "execution_count": 5,
   "id": "e331f681-a11e-4e16-932f-e588327589a9",
   "metadata": {},
   "outputs": [
    {
     "data": {
      "text/html": [
       "<div>\n",
       "<style scoped>\n",
       "    .dataframe tbody tr th:only-of-type {\n",
       "        vertical-align: middle;\n",
       "    }\n",
       "\n",
       "    .dataframe tbody tr th {\n",
       "        vertical-align: top;\n",
       "    }\n",
       "\n",
       "    .dataframe thead th {\n",
       "        text-align: right;\n",
       "    }\n",
       "</style>\n",
       "<table border=\"1\" class=\"dataframe\">\n",
       "  <thead>\n",
       "    <tr style=\"text-align: right;\">\n",
       "      <th></th>\n",
       "      <th>Year</th>\n",
       "      <th>Month</th>\n",
       "      <th>Day</th>\n",
       "      <th>Time of Tweet</th>\n",
       "      <th>text</th>\n",
       "      <th>sentiment</th>\n",
       "      <th>Platform</th>\n",
       "    </tr>\n",
       "  </thead>\n",
       "  <tbody>\n",
       "    <tr>\n",
       "      <th>0</th>\n",
       "      <td>2018.0</td>\n",
       "      <td>8.0</td>\n",
       "      <td>18.0</td>\n",
       "      <td>morning</td>\n",
       "      <td>What a great day!!! Looks like dream.</td>\n",
       "      <td>positive</td>\n",
       "      <td>Twitter</td>\n",
       "    </tr>\n",
       "    <tr>\n",
       "      <th>1</th>\n",
       "      <td>2018.0</td>\n",
       "      <td>8.0</td>\n",
       "      <td>18.0</td>\n",
       "      <td>noon</td>\n",
       "      <td>I feel sorry, I miss you here in the sea beach</td>\n",
       "      <td>positive</td>\n",
       "      <td>Facebook</td>\n",
       "    </tr>\n",
       "    <tr>\n",
       "      <th>2</th>\n",
       "      <td>2017.0</td>\n",
       "      <td>8.0</td>\n",
       "      <td>18.0</td>\n",
       "      <td>night</td>\n",
       "      <td>Don't angry me</td>\n",
       "      <td>negative</td>\n",
       "      <td>Facebook</td>\n",
       "    </tr>\n",
       "  </tbody>\n",
       "</table>\n",
       "</div>"
      ],
      "text/plain": [
       "     Year  Month   Day Time of Tweet  \\\n",
       "0  2018.0    8.0  18.0       morning   \n",
       "1  2018.0    8.0  18.0          noon   \n",
       "2  2017.0    8.0  18.0         night   \n",
       "\n",
       "                                             text sentiment    Platform  \n",
       "0           What a great day!!! Looks like dream.  positive   Twitter    \n",
       "1  I feel sorry, I miss you here in the sea beach  positive   Facebook   \n",
       "2                                  Don't angry me  negative    Facebook  "
      ]
     },
     "execution_count": 5,
     "metadata": {},
     "output_type": "execute_result"
    }
   ],
   "source": [
    "data.head(3)"
   ]
  },
  {
   "cell_type": "code",
   "execution_count": 6,
   "id": "f1a5cb69-5cc2-4733-9eea-a57fd43b3515",
   "metadata": {},
   "outputs": [],
   "source": [
    "needed_data=data.iloc[:,4:6]"
   ]
  },
  {
   "cell_type": "code",
   "execution_count": 7,
   "id": "11399f76-1d2d-4772-af4a-c19cfb64a5bf",
   "metadata": {},
   "outputs": [
    {
     "data": {
      "text/html": [
       "<div>\n",
       "<style scoped>\n",
       "    .dataframe tbody tr th:only-of-type {\n",
       "        vertical-align: middle;\n",
       "    }\n",
       "\n",
       "    .dataframe tbody tr th {\n",
       "        vertical-align: top;\n",
       "    }\n",
       "\n",
       "    .dataframe thead th {\n",
       "        text-align: right;\n",
       "    }\n",
       "</style>\n",
       "<table border=\"1\" class=\"dataframe\">\n",
       "  <thead>\n",
       "    <tr style=\"text-align: right;\">\n",
       "      <th></th>\n",
       "      <th>text</th>\n",
       "      <th>sentiment</th>\n",
       "    </tr>\n",
       "  </thead>\n",
       "  <tbody>\n",
       "    <tr>\n",
       "      <th>0</th>\n",
       "      <td>What a great day!!! Looks like dream.</td>\n",
       "      <td>positive</td>\n",
       "    </tr>\n",
       "    <tr>\n",
       "      <th>1</th>\n",
       "      <td>I feel sorry, I miss you here in the sea beach</td>\n",
       "      <td>positive</td>\n",
       "    </tr>\n",
       "    <tr>\n",
       "      <th>2</th>\n",
       "      <td>Don't angry me</td>\n",
       "      <td>negative</td>\n",
       "    </tr>\n",
       "    <tr>\n",
       "      <th>3</th>\n",
       "      <td>We attend in the class just for listening teac...</td>\n",
       "      <td>negative</td>\n",
       "    </tr>\n",
       "    <tr>\n",
       "      <th>4</th>\n",
       "      <td>Those who want to go, let them go</td>\n",
       "      <td>negative</td>\n",
       "    </tr>\n",
       "    <tr>\n",
       "      <th>...</th>\n",
       "      <td>...</td>\n",
       "      <td>...</td>\n",
       "    </tr>\n",
       "    <tr>\n",
       "      <th>75176</th>\n",
       "      <td>Just realized that the Windows partition of my...</td>\n",
       "      <td>positive</td>\n",
       "    </tr>\n",
       "    <tr>\n",
       "      <th>75177</th>\n",
       "      <td>Just realized that my Mac window partition is ...</td>\n",
       "      <td>positive</td>\n",
       "    </tr>\n",
       "    <tr>\n",
       "      <th>75178</th>\n",
       "      <td>Just realized the windows partition of my Mac ...</td>\n",
       "      <td>positive</td>\n",
       "    </tr>\n",
       "    <tr>\n",
       "      <th>75179</th>\n",
       "      <td>Just realized between the windows partition of...</td>\n",
       "      <td>positive</td>\n",
       "    </tr>\n",
       "    <tr>\n",
       "      <th>75180</th>\n",
       "      <td>Just like the windows partition of my Mac is l...</td>\n",
       "      <td>positive</td>\n",
       "    </tr>\n",
       "  </tbody>\n",
       "</table>\n",
       "<p>75181 rows × 2 columns</p>\n",
       "</div>"
      ],
      "text/plain": [
       "                                                    text sentiment\n",
       "0                  What a great day!!! Looks like dream.  positive\n",
       "1         I feel sorry, I miss you here in the sea beach  positive\n",
       "2                                         Don't angry me  negative\n",
       "3      We attend in the class just for listening teac...  negative\n",
       "4                      Those who want to go, let them go  negative\n",
       "...                                                  ...       ...\n",
       "75176  Just realized that the Windows partition of my...  positive\n",
       "75177  Just realized that my Mac window partition is ...  positive\n",
       "75178  Just realized the windows partition of my Mac ...  positive\n",
       "75179  Just realized between the windows partition of...  positive\n",
       "75180  Just like the windows partition of my Mac is l...  positive\n",
       "\n",
       "[75181 rows x 2 columns]"
      ]
     },
     "execution_count": 7,
     "metadata": {},
     "output_type": "execute_result"
    }
   ],
   "source": [
    "needed_data"
   ]
  },
  {
   "cell_type": "code",
   "execution_count": 8,
   "id": "d43305d3-2add-440b-a912-71394e2cc51b",
   "metadata": {},
   "outputs": [],
   "source": [
    "from sklearn.preprocessing import LabelEncoder\n",
    "le=LabelEncoder()"
   ]
  },
  {
   "cell_type": "code",
   "execution_count": 9,
   "id": "c78a6a23-9d18-4c54-8fda-1e8d104342df",
   "metadata": {},
   "outputs": [],
   "source": [
    "needed_data['response']=le.fit_transform(needed_data['sentiment'])"
   ]
  },
  {
   "cell_type": "code",
   "execution_count": 10,
   "id": "1188441f-2158-4607-a597-e5a4580c4ab1",
   "metadata": {},
   "outputs": [
    {
     "data": {
      "text/html": [
       "<div>\n",
       "<style scoped>\n",
       "    .dataframe tbody tr th:only-of-type {\n",
       "        vertical-align: middle;\n",
       "    }\n",
       "\n",
       "    .dataframe tbody tr th {\n",
       "        vertical-align: top;\n",
       "    }\n",
       "\n",
       "    .dataframe thead th {\n",
       "        text-align: right;\n",
       "    }\n",
       "</style>\n",
       "<table border=\"1\" class=\"dataframe\">\n",
       "  <thead>\n",
       "    <tr style=\"text-align: right;\">\n",
       "      <th></th>\n",
       "      <th>text</th>\n",
       "      <th>sentiment</th>\n",
       "      <th>response</th>\n",
       "    </tr>\n",
       "  </thead>\n",
       "  <tbody>\n",
       "    <tr>\n",
       "      <th>2</th>\n",
       "      <td>Don't angry me</td>\n",
       "      <td>negative</td>\n",
       "      <td>0</td>\n",
       "    </tr>\n",
       "    <tr>\n",
       "      <th>3</th>\n",
       "      <td>We attend in the class just for listening teac...</td>\n",
       "      <td>negative</td>\n",
       "      <td>0</td>\n",
       "    </tr>\n",
       "    <tr>\n",
       "      <th>4</th>\n",
       "      <td>Those who want to go, let them go</td>\n",
       "      <td>negative</td>\n",
       "      <td>0</td>\n",
       "    </tr>\n",
       "    <tr>\n",
       "      <th>12</th>\n",
       "      <td>My Sharpie is running DANGERously low on ink</td>\n",
       "      <td>negative</td>\n",
       "      <td>0</td>\n",
       "    </tr>\n",
       "    <tr>\n",
       "      <th>13</th>\n",
       "      <td>i want to go to music tonight but i lost my vo...</td>\n",
       "      <td>negative</td>\n",
       "      <td>0</td>\n",
       "    </tr>\n",
       "    <tr>\n",
       "      <th>...</th>\n",
       "      <td>...</td>\n",
       "      <td>...</td>\n",
       "      <td>...</td>\n",
       "    </tr>\n",
       "    <tr>\n",
       "      <th>75164</th>\n",
       "      <td>Nvidia really delayed the 3070 by 2 weeks.</td>\n",
       "      <td>negative</td>\n",
       "      <td>0</td>\n",
       "    </tr>\n",
       "    <tr>\n",
       "      <th>75165</th>\n",
       "      <td>Nvidia did delay by 3070 2 weeks.</td>\n",
       "      <td>negative</td>\n",
       "      <td>0</td>\n",
       "    </tr>\n",
       "    <tr>\n",
       "      <th>75166</th>\n",
       "      <td>Nvidia really delayed the 3070 several weeks.</td>\n",
       "      <td>negative</td>\n",
       "      <td>0</td>\n",
       "    </tr>\n",
       "    <tr>\n",
       "      <th>75167</th>\n",
       "      <td>Nvidia really only delayed the 3070 2 flight w...</td>\n",
       "      <td>negative</td>\n",
       "      <td>0</td>\n",
       "    </tr>\n",
       "    <tr>\n",
       "      <th>75168</th>\n",
       "      <td>Nvidia really delayed the next 2 weeks.</td>\n",
       "      <td>negative</td>\n",
       "      <td>0</td>\n",
       "    </tr>\n",
       "  </tbody>\n",
       "</table>\n",
       "<p>22676 rows × 3 columns</p>\n",
       "</div>"
      ],
      "text/plain": [
       "                                                    text sentiment  response\n",
       "2                                         Don't angry me  negative         0\n",
       "3      We attend in the class just for listening teac...  negative         0\n",
       "4                      Those who want to go, let them go  negative         0\n",
       "12          My Sharpie is running DANGERously low on ink  negative         0\n",
       "13     i want to go to music tonight but i lost my vo...  negative         0\n",
       "...                                                  ...       ...       ...\n",
       "75164         Nvidia really delayed the 3070 by 2 weeks.  negative         0\n",
       "75165                  Nvidia did delay by 3070 2 weeks.  negative         0\n",
       "75166      Nvidia really delayed the 3070 several weeks.  negative         0\n",
       "75167  Nvidia really only delayed the 3070 2 flight w...  negative         0\n",
       "75168            Nvidia really delayed the next 2 weeks.  negative         0\n",
       "\n",
       "[22676 rows x 3 columns]"
      ]
     },
     "execution_count": 10,
     "metadata": {},
     "output_type": "execute_result"
    }
   ],
   "source": [
    "needed_data[needed_data.response==0]"
   ]
  },
  {
   "cell_type": "code",
   "execution_count": 11,
   "id": "69410d5d-30c8-4d48-b19c-f335e9816586",
   "metadata": {},
   "outputs": [],
   "source": [
    "# so we have poaitive-2, negative-0 and neutral-1"
   ]
  },
  {
   "cell_type": "code",
   "execution_count": 12,
   "id": "86ecb55a-a2c9-419e-8e49-ed4dce8bff93",
   "metadata": {},
   "outputs": [],
   "source": [
    "needed_data.drop(['sentiment'], axis='columns', inplace=True)"
   ]
  },
  {
   "cell_type": "code",
   "execution_count": 13,
   "id": "72d91585-ac17-4445-acb2-4573dab857c8",
   "metadata": {},
   "outputs": [
    {
     "data": {
      "text/html": [
       "<div>\n",
       "<style scoped>\n",
       "    .dataframe tbody tr th:only-of-type {\n",
       "        vertical-align: middle;\n",
       "    }\n",
       "\n",
       "    .dataframe tbody tr th {\n",
       "        vertical-align: top;\n",
       "    }\n",
       "\n",
       "    .dataframe thead th {\n",
       "        text-align: right;\n",
       "    }\n",
       "</style>\n",
       "<table border=\"1\" class=\"dataframe\">\n",
       "  <thead>\n",
       "    <tr style=\"text-align: right;\">\n",
       "      <th></th>\n",
       "      <th>text</th>\n",
       "      <th>response</th>\n",
       "    </tr>\n",
       "  </thead>\n",
       "  <tbody>\n",
       "    <tr>\n",
       "      <th>0</th>\n",
       "      <td>What a great day!!! Looks like dream.</td>\n",
       "      <td>2</td>\n",
       "    </tr>\n",
       "    <tr>\n",
       "      <th>1</th>\n",
       "      <td>I feel sorry, I miss you here in the sea beach</td>\n",
       "      <td>2</td>\n",
       "    </tr>\n",
       "    <tr>\n",
       "      <th>2</th>\n",
       "      <td>Don't angry me</td>\n",
       "      <td>0</td>\n",
       "    </tr>\n",
       "    <tr>\n",
       "      <th>3</th>\n",
       "      <td>We attend in the class just for listening teac...</td>\n",
       "      <td>0</td>\n",
       "    </tr>\n",
       "    <tr>\n",
       "      <th>4</th>\n",
       "      <td>Those who want to go, let them go</td>\n",
       "      <td>0</td>\n",
       "    </tr>\n",
       "    <tr>\n",
       "      <th>5</th>\n",
       "      <td>Its night 2 am, feeling neutral</td>\n",
       "      <td>1</td>\n",
       "    </tr>\n",
       "  </tbody>\n",
       "</table>\n",
       "</div>"
      ],
      "text/plain": [
       "                                                text  response\n",
       "0              What a great day!!! Looks like dream.         2\n",
       "1     I feel sorry, I miss you here in the sea beach         2\n",
       "2                                     Don't angry me         0\n",
       "3  We attend in the class just for listening teac...         0\n",
       "4                  Those who want to go, let them go         0\n",
       "5                    Its night 2 am, feeling neutral         1"
      ]
     },
     "execution_count": 13,
     "metadata": {},
     "output_type": "execute_result"
    }
   ],
   "source": [
    "needed_data.head(6)"
   ]
  },
  {
   "cell_type": "code",
   "execution_count": 14,
   "id": "dfe3db2d-46ba-49cd-a991-57b8e859a526",
   "metadata": {},
   "outputs": [
    {
     "data": {
      "text/plain": [
       "<Axes: xlabel='response'>"
      ]
     },
     "execution_count": 14,
     "metadata": {},
     "output_type": "execute_result"
    },
    {
     "data": {
      "image/png": "[encoded data removed]",
      "text/plain": [
       "<Figure size 640x480 with 1 Axes>"
      ]
     },
     "metadata": {},
     "output_type": "display_data"
    }
   ],
   "source": [
    "needed_data['response'].value_counts().plot(kind='bar')"
   ]
  },
  {
   "cell_type": "code",
   "execution_count": 15,
   "id": "45f79b09-ebca-43f9-9f9f-ae62a1e0ba08",
   "metadata": {},
   "outputs": [
    {
     "data": {
      "text/plain": [
       "Text(0.5, 1.0, 'Distribution of sentiment')"
      ]
     },
     "execution_count": 15,
     "metadata": {},
     "output_type": "execute_result"
    },
    {
     "data": {
      "image/png": "[encoded data removed]",
      "text/plain": [
       "<Figure size 640x480 with 1 Axes>"
      ]
     },
     "metadata": {},
     "output_type": "display_data"
    }
   ],
   "source": [
    "needed_data['response'].value_counts().plot(kind='pie', explode=(0.1,0,0), autopct='%1.1f%%')\n",
    "plt.title('Distribution of sentiment')"
   ]
  },
  {
   "cell_type": "code",
   "execution_count": 16,
   "id": "2b06a547-ed3f-497a-b2be-2574ab9b6e5c",
   "metadata": {},
   "outputs": [],
   "source": [
    "# we can see almost equally distributed data"
   ]
  },
  {
   "cell_type": "code",
   "execution_count": 17,
   "id": "6b5aad41-51b8-43e8-bc1e-5eb9ec7f685f",
   "metadata": {},
   "outputs": [],
   "source": [
    "#let's work on data now"
   ]
  },
  {
   "cell_type": "code",
   "execution_count": 18,
   "id": "196d75bd-06c7-47df-a4ad-9c489fe2f3ce",
   "metadata": {},
   "outputs": [
    {
     "data": {
      "text/plain": [
       "'I really really like the song Cardigan by Taylor Swift'"
      ]
     },
     "execution_count": 18,
     "metadata": {},
     "output_type": "execute_result"
    }
   ],
   "source": [
    "needed_data.text[11]"
   ]
  },
  {
   "cell_type": "code",
   "execution_count": 19,
   "id": "386d4f02-8496-4ce0-bb9f-e39ebc103814",
   "metadata": {},
   "outputs": [],
   "source": [
    "# Cleaning steps\n",
    "# removing HTML Tags\n",
    "# extracting emojies # The pattern re.compile('(?::|;|=)(?:-)?(?:)|(|D|P)') is a regular expression used to match and extract emojis from a given text.\n",
    "# removing special chars,puntuation,sumbols\n",
    "# lower casing\n",
    "# removing stopwords\n",
    "# tokenization"
   ]
  },
  {
   "cell_type": "code",
   "execution_count": 20,
   "id": "3a63b2a1-2564-40df-aad8-8749e69d8cfc",
   "metadata": {},
   "outputs": [],
   "source": [
    "import re\n",
    "import nltk\n",
    "from nltk.stem.porter import PorterStemmer\n",
    "from nltk.corpus import stopwords"
   ]
  },
  {
   "cell_type": "code",
   "execution_count": 33,
   "id": "9af9c699-b09c-45d5-97ad-6a4b3e8bc751",
   "metadata": {},
   "outputs": [
    {
     "data": {
      "text/plain": [
       "True"
      ]
     },
     "execution_count": 33,
     "metadata": {},
     "output_type": "execute_result"
    }
   ],
   "source": [
    "needed_data['text'].isnull().any()"
   ]
  },
  {
   "cell_type": "code",
   "execution_count": 37,
   "id": "8aff6730-ddda-48af-81bf-b7b1289440be",
   "metadata": {},
   "outputs": [],
   "source": [
    "needed_data=needed_data.dropna()"
   ]
  },
  {
   "cell_type": "code",
   "execution_count": 38,
   "id": "4f44856a-3766-413a-a57d-2281e332344c",
   "metadata": {},
   "outputs": [
    {
     "name": "stderr",
     "output_type": "stream",
     "text": [
      "<>:2: SyntaxWarning: invalid escape sequence '\\)'\n",
      "<>:6: SyntaxWarning: invalid escape sequence '\\W'\n",
      "<>:2: SyntaxWarning: invalid escape sequence '\\)'\n",
      "<>:6: SyntaxWarning: invalid escape sequence '\\W'\n",
      "C:\\Users\\s.r.kaur\\AppData\\Local\\Temp\\ipykernel_2216\\1022624172.py:2: SyntaxWarning: invalid escape sequence '\\)'\n",
      "  emoji_pattern=re.compile('(?::|;|=)(?:-)?(?:\\)|\\(|D|P)')\n",
      "C:\\Users\\s.r.kaur\\AppData\\Local\\Temp\\ipykernel_2216\\1022624172.py:6: SyntaxWarning: invalid escape sequence '\\W'\n",
      "  text = re.sub('[\\W+]', ' ', text.lower()) + ' '.join(emojis).replace('-', '')\n"
     ]
    }
   ],
   "source": [
    "stopwords_set=set(stopwords.words('english'))\n",
    "emoji_pattern=re.compile('(?::|;|=)(?:-)?(?:\\)|\\(|D|P)')\n",
    "def preprocessing(text):\n",
    "    text = re.sub('<[^>]*>', '', text)\n",
    "    emojis = emoji_pattern.findall(text)\n",
    "    text = re.sub('[\\W+]', ' ', text.lower()) + ' '.join(emojis).replace('-', '')\n",
    "    prter = PorterStemmer()\n",
    "    text = [prter.stem(word) for word in text.split() if word not in stopwords_set]\n",
    "    return \" \".join(text)"
   ]
  },
  {
   "cell_type": "code",
   "execution_count": 39,
   "id": "9245a8e6-f2fc-40f6-a445-ec23d7e3af07",
   "metadata": {},
   "outputs": [
    {
     "data": {
      "text/plain": [
       "'tag hello worl helo world :)'"
      ]
     },
     "execution_count": 39,
     "metadata": {},
     "output_type": "execute_result"
    }
   ],
   "source": [
    "preprocessing('this is my tags hello worls <h1> :) <p>helo world<p> <div> <div> </h2>')"
   ]
  },
  {
   "cell_type": "code",
   "execution_count": 40,
   "id": "a6efdf5c-31de-4d8f-9875-ab4295b16aa8",
   "metadata": {},
   "outputs": [
    {
     "name": "stderr",
     "output_type": "stream",
     "text": [
      "C:\\Users\\s.r.kaur\\AppData\\Local\\Temp\\ipykernel_2216\\3493593978.py:1: SettingWithCopyWarning: \n",
      "A value is trying to be set on a copy of a slice from a DataFrame.\n",
      "Try using .loc[row_indexer,col_indexer] = value instead\n",
      "\n",
      "See the caveats in the documentation: https://pandas.pydata.org/pandas-docs/stable/user_guide/indexing.html#returning-a-view-versus-a-copy\n",
      "  needed_data['text'] = needed_data['text'].apply(lambda x: preprocessing(x))\n"
     ]
    }
   ],
   "source": [
    "needed_data['text'] = needed_data['text'].apply(lambda x: preprocessing(x))"
   ]
  },
  {
   "cell_type": "code",
   "execution_count": 41,
   "id": "dcb7a3e7-683b-4be2-bd2e-247f7abe9f6e",
   "metadata": {},
   "outputs": [
    {
     "data": {
      "text/plain": [
       "0                    What a great day!!! Looks like dream.\n",
       "1           I feel sorry, I miss you here in the sea beach\n",
       "2                                           Don't angry me\n",
       "3        We attend in the class just for listening teac...\n",
       "4                        Those who want to go, let them go\n",
       "                               ...                        \n",
       "75176    Just realized that the Windows partition of my...\n",
       "75177    Just realized that my Mac window partition is ...\n",
       "75178    Just realized the windows partition of my Mac ...\n",
       "75179    Just realized between the windows partition of...\n",
       "75180    Just like the windows partition of my Mac is l...\n",
       "Name: text, Length: 75181, dtype: object"
      ]
     },
     "execution_count": 41,
     "metadata": {},
     "output_type": "execute_result"
    }
   ],
   "source": [
    "data['text']"
   ]
  },
  {
   "cell_type": "code",
   "execution_count": 42,
   "id": "fff6007b-0cee-4300-9513-bcbd67ed7fff",
   "metadata": {},
   "outputs": [
    {
     "data": {
      "text/html": [
       "<div>\n",
       "<style scoped>\n",
       "    .dataframe tbody tr th:only-of-type {\n",
       "        vertical-align: middle;\n",
       "    }\n",
       "\n",
       "    .dataframe tbody tr th {\n",
       "        vertical-align: top;\n",
       "    }\n",
       "\n",
       "    .dataframe thead th {\n",
       "        text-align: right;\n",
       "    }\n",
       "</style>\n",
       "<table border=\"1\" class=\"dataframe\">\n",
       "  <thead>\n",
       "    <tr style=\"text-align: right;\">\n",
       "      <th></th>\n",
       "      <th>text</th>\n",
       "      <th>response</th>\n",
       "    </tr>\n",
       "  </thead>\n",
       "  <tbody>\n",
       "    <tr>\n",
       "      <th>0</th>\n",
       "      <td>great day look like dream</td>\n",
       "      <td>2</td>\n",
       "    </tr>\n",
       "    <tr>\n",
       "      <th>1</th>\n",
       "      <td>feel sorri miss sea beach</td>\n",
       "      <td>2</td>\n",
       "    </tr>\n",
       "    <tr>\n",
       "      <th>2</th>\n",
       "      <td>angri</td>\n",
       "      <td>0</td>\n",
       "    </tr>\n",
       "    <tr>\n",
       "      <th>3</th>\n",
       "      <td>attend class listen teacher read slide nonsenc</td>\n",
       "      <td>0</td>\n",
       "    </tr>\n",
       "    <tr>\n",
       "      <th>4</th>\n",
       "      <td>want go let go</td>\n",
       "      <td>0</td>\n",
       "    </tr>\n",
       "  </tbody>\n",
       "</table>\n",
       "</div>"
      ],
      "text/plain": [
       "                                             text  response\n",
       "0                       great day look like dream         2\n",
       "1                       feel sorri miss sea beach         2\n",
       "2                                           angri         0\n",
       "3  attend class listen teacher read slide nonsenc         0\n",
       "4                                  want go let go         0"
      ]
     },
     "execution_count": 42,
     "metadata": {},
     "output_type": "execute_result"
    }
   ],
   "source": [
    "needed_data.head()"
   ]
  },
  {
   "cell_type": "code",
   "execution_count": 84,
   "id": "7f736dad-cd47-4887-86d0-c9b9b231403e",
   "metadata": {},
   "outputs": [],
   "source": [
    "positive_data=needed_data[needed_data['response']==2]\n",
    "positive=positive_data['text']\n",
    "negative_data=needed_data[needed_data['response']==0]\n",
    "negative=negative_data['text']\n",
    "neutral_data=needed_data[needed_data['response']==1]\n",
    "neutral=neutral_data['text']"
   ]
  },
  {
   "cell_type": "code",
   "execution_count": 96,
   "id": "52f6a031-6bdc-4595-ab32-3104d9dba78f",
   "metadata": {
    "scrolled": true
   },
   "outputs": [],
   "source": [
    "needed_data=needed_data[needed_data['response']!=1]"
   ]
  },
  {
   "cell_type": "code",
   "execution_count": 97,
   "id": "5a32e1a7-69cb-4001-a8fa-da2f1cde54f7",
   "metadata": {},
   "outputs": [
    {
     "data": {
      "text/plain": [
       "0                                great day look like dream\n",
       "1                                feel sorri miss sea beach\n",
       "6                                2 feed babi fun smile coo\n",
       "9                 today first time arriv boat amaz journey\n",
       "11           realli realli like song cardigan taylor swift\n",
       "                               ...                        \n",
       "75176    realiz window partit mac like 6 year behind nv...\n",
       "75177    realiz mac window partit 6 year behind nvidia ...\n",
       "75178    realiz window partit mac 6 year behind nvidia ...\n",
       "75179    realiz window partit mac like 6 year behind nv...\n",
       "75180    like window partit mac like 6 year behind driv...\n",
       "Name: text, Length: 20821, dtype: object"
      ]
     },
     "execution_count": 97,
     "metadata": {},
     "output_type": "execute_result"
    }
   ],
   "source": [
    "positive"
   ]
  },
  {
   "cell_type": "code",
   "execution_count": 99,
   "id": "b0b76506-1322-4dac-bd92-a536b77be44c",
   "metadata": {},
   "outputs": [],
   "source": [
    "from collections import Counter\n",
    "positive_words=''.join(positive).split()\n",
    "positive_words.remove(\"_\")\n",
    "positive_words=[item for item in positive_words if not isinstance(item, (int,float))]\n",
    "pos_count= Counter(positive_words)\n",
    "\n",
    "negative_words=''.join(negative).split()\n",
    "negative_words.remove(\"_\")\n",
    "negative_words=[item for item in negative_words if not isinstance(item, (int,float))]\n",
    "neg_count=Counter(negative_words)\n",
    "\n",
    "neutral_words=''.join(neutral).split()\n",
    "neutral_words.remove(\"_\")\n",
    "neutral_words=[item for item in neutral_words if not isinstance(item, (int,float))]\n",
    "neu_count=Counter(neutral_words)"
   ]
  },
  {
   "cell_type": "code",
   "execution_count": 100,
   "id": "0e38af82-0da4-4df6-9f77-202895ee84b4",
   "metadata": {},
   "outputs": [],
   "source": [
    "pos_common_word=pos_count.most_common(10)\n",
    "neg_common_word=neg_count.most_common(10)\n",
    "neu_common_word=neu_count.most_common(10)"
   ]
  },
  {
   "cell_type": "code",
   "execution_count": 101,
   "id": "370be591-396e-49f4-aa81-df766ff84250",
   "metadata": {},
   "outputs": [
    {
     "data": {
      "text/plain": [
       "[('game', 4043),\n",
       " ('get', 2266),\n",
       " ('play', 1874),\n",
       " ('com', 1871),\n",
       " ('fuck', 1786),\n",
       " ('like', 1537),\n",
       " ('twitter', 1393),\n",
       " ('pic', 1385),\n",
       " ('fix', 1248),\n",
       " ('make', 1140)]"
      ]
     },
     "execution_count": 101,
     "metadata": {},
     "output_type": "execute_result"
    }
   ],
   "source": [
    "neg_common_word"
   ]
  },
  {
   "cell_type": "code",
   "execution_count": 102,
   "id": "af89803e-5292-47f4-aa0a-5ec3309a19a5",
   "metadata": {},
   "outputs": [],
   "source": [
    "# TF-IDF Vertorizer to convert the raw documents into feature matrix"
   ]
  },
  {
   "cell_type": "code",
   "execution_count": 103,
   "id": "04fef3a4-4052-44b0-bcc6-e668d6abeb4f",
   "metadata": {},
   "outputs": [],
   "source": [
    "from sklearn.feature_extraction.text import TfidfVectorizer\n",
    "tfidf=TfidfVectorizer(strip_accents=None,lowercase=False,preprocessor=None,use_idf=True,norm='l2',smooth_idf=True)\n",
    "y=needed_data.response.values\n",
    "x=tfidf.fit_transform(needed_data.text)"
   ]
  },
  {
   "cell_type": "code",
   "execution_count": 104,
   "id": "b3b27f64-d8b0-4e2d-a886-0b5665232809",
   "metadata": {},
   "outputs": [],
   "source": [
    "from sklearn.model_selection import train_test_split\n",
    "X_train,X_test,y_train,y_test=train_test_split(x,y,random_state=1,test_size=0.5,shuffle=False)"
   ]
  },
  {
   "cell_type": "code",
   "execution_count": 105,
   "id": "82815726-810c-4e5e-bde6-c8ee7919d5bf",
   "metadata": {},
   "outputs": [
    {
     "name": "stderr",
     "output_type": "stream",
     "text": [
      "[Parallel(n_jobs=-1)]: Using backend LokyBackend with 8 concurrent workers.\n",
      "[Parallel(n_jobs=-1)]: Done   3 out of   6 | elapsed:   24.3s remaining:   24.3s\n",
      "[Parallel(n_jobs=-1)]: Done   6 out of   6 | elapsed:   24.4s finished\n"
     ]
    }
   ],
   "source": [
    "from sklearn.linear_model import LogisticRegressionCV\n",
    "clf=LogisticRegressionCV(cv=6,scoring='accuracy',random_state=0,n_jobs=-1,verbose=3,max_iter=500).fit(X_train,y_train)\n",
    "y_pred = clf.predict(X_test)"
   ]
  },
  {
   "cell_type": "code",
   "execution_count": 111,
   "id": "c0c4d6dc-ef9b-4365-9df7-78c2fd1b64ed",
   "metadata": {},
   "outputs": [
    {
     "name": "stdout",
     "output_type": "stream",
     "text": [
      "Accuracy: 0.7359745117052223\n"
     ]
    }
   ],
   "source": [
    "from sklearn import metrics\n",
    "print(\"Accuracy:\",metrics.accuracy_score(y_test, y_pred))"
   ]
  },
  {
   "cell_type": "code",
   "execution_count": 112,
   "id": "a005fcc4-8e19-4852-a277-ac97ebc6ed0b",
   "metadata": {},
   "outputs": [],
   "source": [
    "# from sklearn import tree\n",
    "# from sklearn.tree import DecisionTreeClassifier\n",
    "# clf = DecisionTreeClassifier(random_state=42).fit(X_train,y_train)\n",
    "# y_pred = clf.predict(X_test)\n",
    "# print(\"Accuracy:\",metrics.accuracy_score(y_test, y_pred))"
   ]
  },
  {
   "cell_type": "code",
   "execution_count": 113,
   "id": "497be31a-60ce-4775-bd96-7830afcf0952",
   "metadata": {
    "scrolled": true
   },
   "outputs": [],
   "source": [
    "# from sklearn.svm import SVC\n",
    "# svc = SVC(kernel='linear', random_state=42)\n",
    "# svc.fit(X_train, y_train)\n",
    "# y_pred = svc.predict(X_test)\n",
    "# metrics.accuracy_score(y_test, y_pred)"
   ]
  },
  {
   "cell_type": "code",
   "execution_count": 114,
   "id": "06332f99-713f-4cde-8a7f-e5bc621819f5",
   "metadata": {},
   "outputs": [],
   "source": [
    "# from sklearn.ensemble import RandomForestClassifier\n",
    "# clf = RandomForestClassifier(n_estimators=500, random_state=22)\n",
    "# clf.fit(X_train, y_train)\n",
    "# y_pred = clf.predict(X_test)\n",
    "# accuracy = metrics.accuracy_score(y_test, y_pred)\n",
    "# accuracy"
   ]
  },
  {
   "cell_type": "code",
   "execution_count": 116,
   "id": "f5cfb7c9-06b3-4fba-87d2-d172edde5542",
   "metadata": {},
   "outputs": [],
   "source": [
    "import pickle\n",
    "pickle.dump(clf,open('clf.pkl','wb'))\n",
    "pickle.dump(tfidf,open('tfidf.pkl','wb'))"
   ]
  },
  {
   "cell_type": "code",
   "execution_count": 132,
   "id": "6cc2fe8a-75c8-4ca3-9bb6-9c346ebd9bad",
   "metadata": {},
   "outputs": [],
   "source": [
    "def prediction(comment):\n",
    "    preprocessed_comment = preprocessing(comment)\n",
    "    comment_list = [preprocessed_comment]  # Wrap the preprocessed comment in a list\n",
    "    comment_vector = tfidf.transform(comment_list)\n",
    "    prediction = clf.predict(comment_vector)[0]\n",
    "    return prediction\n",
    "prediction = prediction('what a great day')"
   ]
  },
  {
   "cell_type": "code",
   "execution_count": 133,
   "id": "0cfaacf8-fe46-4658-aa48-2ce1ae89a299",
   "metadata": {},
   "outputs": [
    {
     "name": "stdout",
     "output_type": "stream",
     "text": [
      "positive comment\n"
     ]
    }
   ],
   "source": [
    "if prediction == 2:\n",
    "    print(\"positive comment\")\n",
    "else:\n",
    "    print(\"negative comment\")"
   ]
  },
  {
   "cell_type": "code",
   "execution_count": null,
   "id": "da6f06f6-da9f-431d-88bf-7a1b50de7f79",
   "metadata": {},
   "outputs": [],
   "source": []
  }
 ],
 "metadata": {
  "kernelspec": {
   "display_name": "Python 3 (ipykernel)",
   "language": "python",
   "name": "python3"
  },
  "language_info": {
   "codemirror_mode": {
    "name": "ipython",
    "version": 3
   },
   "file_extension": ".py",
   "mimetype": "text/x-python",
   "name": "python",
   "nbconvert_exporter": "python",
   "pygments_lexer": "ipython3",
   "version": "3.12.0"
  }
 },
 "nbformat": 4,
 "nbformat_minor": 5
}
